{
  "nbformat": 4,
  "nbformat_minor": 0,
  "metadata": {
    "colab": {
      "provenance": [],
      "gpuType": "T4"
    },
    "kernelspec": {
      "name": "python3",
      "display_name": "Python 3"
    },
    "language_info": {
      "name": "python"
    },
    "accelerator": "GPU"
  },
  "cells": [
    {
      "cell_type": "markdown",
      "source": [
        "Activate GPUs: change runtime type -> Hardware accelerator (GPU)"
      ],
      "metadata": {
        "id": "FbO8N8BDw-8S"
      }
    },
    {
      "cell_type": "code",
      "source": [
        "! nvidia-smi"
      ],
      "metadata": {
        "id": "lT5MD9ajyvQ0"
      },
      "execution_count": null,
      "outputs": []
    },
    {
      "cell_type": "code",
      "source": [
        "! pip install ultralytics"
      ],
      "metadata": {
        "id": "SlwmM40BL4zg"
      },
      "execution_count": null,
      "outputs": []
    },
    {
      "cell_type": "code",
      "source": [
        "! pip install roboflow"
      ],
      "metadata": {
        "id": "uvLbOY5d86ME"
      },
      "execution_count": null,
      "outputs": []
    },
    {
      "cell_type": "code",
      "source": [
        "from roboflow import Roboflow\n",
        "from ultralytics import YOLO"
      ],
      "metadata": {
        "id": "VXO-1FRh-QtX"
      },
      "execution_count": null,
      "outputs": []
    },
    {
      "cell_type": "code",
      "source": [
        "# Download dataset\n",
        "key = \"use your key here\"\n",
        "rf = Roboflow(api_key=key)\n",
        "project = rf.workspace(\"roboflow-universe-projects\").project(\"fall-detection-ca3o8\")\n",
        "dataset = project.version(4).download(\"yolov8\")"
      ],
      "metadata": {
        "id": "gVA8BMon894_",
        "colab": {
          "base_uri": "https://localhost:8080/"
        },
        "outputId": "49e666a4-859c-4c24-9af4-e30ee3e51a85"
      },
      "execution_count": null,
      "outputs": [
        {
          "output_type": "stream",
          "name": "stdout",
          "text": [
            "loading Roboflow workspace...\n",
            "loading Roboflow project...\n",
            "Dependency ultralytics<=8.0.20 is required but found version=8.0.124, to fix: `pip install ultralytics<=8.0.20`\n",
            "Downloading Dataset Version Zip in Fall-Detection-4 to yolov8: 100% [540386550 / 540386550] bytes\n"
          ]
        },
        {
          "output_type": "stream",
          "name": "stderr",
          "text": [
            "Extracting Dataset Version Zip to Fall-Detection-4 in yolov8:: 100%|██████████| 21586/21586 [00:08<00:00, 2650.17it/s]\n"
          ]
        }
      ]
    },
    {
      "cell_type": "code",
      "source": [
        "# Load a model\n",
        "model = YOLO('yolov8n.pt')"
      ],
      "metadata": {
        "id": "ogvd5vkDu6IE",
        "colab": {
          "base_uri": "https://localhost:8080/"
        },
        "outputId": "d3141b39-ea08-4f4a-af03-62d9ff639998"
      },
      "execution_count": null,
      "outputs": [
        {
          "output_type": "stream",
          "name": "stderr",
          "text": [
            "Downloading https://github.com/ultralytics/assets/releases/download/v0.0.0/yolov8n.pt to yolov8n.pt...\n",
            "100%|██████████| 6.23M/6.23M [00:00<00:00, 129MB/s]\n"
          ]
        }
      ]
    },
    {
      "cell_type": "code",
      "source": [
        "# Train the model\n",
        "model.train(data='/content/Fall-Detection-4/data.yaml', epochs=100, cache =True, patience=10, imgsz=640, device=[0])"
      ],
      "metadata": {
        "id": "-Qz46zreu_aG"
      },
      "execution_count": null,
      "outputs": []
    }
  ]
}
